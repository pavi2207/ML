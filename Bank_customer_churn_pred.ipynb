{
  "cells": [
    {
      "cell_type": "markdown",
      "id": "MJGRwtcZixGK",
      "metadata": {
        "id": "MJGRwtcZixGK"
      },
      "source": [
        "# Project Name: Bank Customer Churn Prediction using H2O Auto ML"
      ]
    },
    {
      "cell_type": "code",
      "execution_count": null,
      "id": "3Q1hYop9mNy-",
      "metadata": {
        "id": "3Q1hYop9mNy-"
      },
      "outputs": [],
      "source": [
        "from google.colab import drive\n",
        "drive.mount('/content/drive')"
      ]
    },
    {
      "cell_type": "code",
      "execution_count": null,
      "id": "183abaf5",
      "metadata": {
        "id": "183abaf5"
      },
      "outputs": [],
      "source": [
        "df = pd.read_csv(\"/content/drive/MyDrive/Churn_Modelling.csv\")"
      ]
    },
    {
      "cell_type": "code",
      "execution_count": null,
      "id": "Xiwb6cufmo0Q",
      "metadata": {
        "id": "Xiwb6cufmo0Q"
      },
      "outputs": [],
      "source": [
        "df.head()"
      ]
    },
    {
      "cell_type": "code",
      "execution_count": null,
      "id": "d4aedbe5",
      "metadata": {
        "id": "d4aedbe5"
      },
      "outputs": [],
      "source": [
        "df.drop(['CustomerId','RowNumber','Surname'],axis='columns',inplace=True)"
      ]
    },
    {
      "cell_type": "code",
      "execution_count": null,
      "id": "tQkrWMug2Y1o",
      "metadata": {
        "id": "tQkrWMug2Y1o"
      },
      "outputs": [],
      "source": [
        "df.head()"
      ]
    },
    {
      "cell_type": "code",
      "execution_count": null,
      "id": "9735f62e",
      "metadata": {
        "id": "9735f62e"
      },
      "outputs": [],
      "source": [
        "df.dtypes"
      ]
    },
    {
      "cell_type": "markdown",
      "id": "9yu3VCshn6G9",
      "metadata": {
        "id": "9yu3VCshn6G9"
      },
      "source": [
        "#Data Analysis"
      ]
    },
    {
      "cell_type": "code",
      "execution_count": null,
      "id": "dwEVFRSGnLJi",
      "metadata": {
        "id": "dwEVFRSGnLJi"
      },
      "outputs": [],
      "source": [
        "df.head()"
      ]
    },
    {
      "cell_type": "code",
      "execution_count": null,
      "id": "PADzfr9SoKGh",
      "metadata": {
        "id": "PADzfr9SoKGh"
      },
      "outputs": [],
      "source": [
        "df.nunique()"
      ]
    },
    {
      "cell_type": "markdown",
      "id": "fw4WDY0v7QxA",
      "metadata": {
        "id": "fw4WDY0v7QxA"
      },
      "source": [
        "## We will plot a Pie Chart "
      ]
    },
    {
      "cell_type": "code",
      "execution_count": null,
      "id": "piIWgNTxnVF-",
      "metadata": {
        "id": "piIWgNTxnVF-"
      },
      "outputs": [],
      "source": [
        "labels = 'Exited(Churned)', 'Retained'\n",
        "sizes = [df.Exited[df['Exited']==1].count(), df.Exited[df['Exited']==0].count()]\n",
        "explode = (0, 0.1)\n",
        "fig1, ax1 = plt.subplots(figsize=(10, 8))\n",
        "ax1.pie(sizes, explode=explode, labels=labels, autopct='%1.1f%%',\n",
        "        shadow=True, startangle=90)\n",
        "ax1.axis('equal')\n",
        "plt.title(\"Proportion of customer churned and retained\", size = 20)\n",
        "plt.show()"
      ]
    },
    {
      "cell_type": "code",
      "execution_count": null,
      "id": "72i0IxD4oukt",
      "metadata": {
        "id": "72i0IxD4oukt"
      },
      "outputs": [],
      "source": [
        "import seaborn as sns"
      ]
    },
    {
      "cell_type": "code",
      "execution_count": null,
      "id": "7b9K_mIrorK9",
      "metadata": {
        "id": "7b9K_mIrorK9"
      },
      "outputs": [],
      "source": [
        "    # We first review the 'Status' relation with categorical variables\n",
        "    fig, axarr = plt.subplots(2, 2, figsize=(20, 12))\n",
        "    sns.countplot(x='Geography', hue = 'Exited',data = df, ax=axarr[0][0])\n",
        "    sns.countplot(x='Gender', hue = 'Exited',data = df, ax=axarr[0][1])\n",
        "    sns.countplot(x='HasCrCard', hue = 'Exited',data = df, ax=axarr[1][0])\n",
        "    sns.countplot(x='IsActiveMember', hue = 'Exited',data = df, ax=axarr[1][1])"
      ]
    },
    {
      "cell_type": "code",
      "execution_count": null,
      "id": "zZ880TaMpHCU",
      "metadata": {
        "id": "zZ880TaMpHCU"
      },
      "outputs": [],
      "source": [
        "# Relations based on the continuous data attributes\n",
        "fig, axarr = plt.subplots(3, 2, figsize=(20, 12))\n",
        "sns.boxplot(y='CreditScore',x = 'Exited', hue = 'Exited',data = df, ax=axarr[0][0])\n",
        "sns.boxplot(y='Age',x = 'Exited', hue = 'Exited',data = df , ax=axarr[0][1])\n",
        "sns.boxplot(y='Tenure',x = 'Exited', hue = 'Exited',data = df, ax=axarr[1][0])\n",
        "sns.boxplot(y='Balance',x = 'Exited', hue = 'Exited',data = df, ax=axarr[1][1])\n",
        "sns.boxplot(y='NumOfProducts',x = 'Exited', hue = 'Exited',data = df, ax=axarr[2][0])\n",
        "sns.boxplot(y='EstimatedSalary',x = 'Exited', hue = 'Exited',data = df, ax=axarr[2][1])"
      ]
    },
    {
      "cell_type": "code",
      "execution_count": null,
      "id": "cf18eef8",
      "metadata": {
        "id": "cf18eef8"
      },
      "outputs": [],
      "source": [
        "tenure_churn_no = df[df.Exited==0].Tenure\n",
        "tenure_churn_yes = df[df.Exited==1].Tenure\n",
        "\n",
        "plt.xlabel(\"tenure\")\n",
        "plt.ylabel(\"Number Of Customers\")\n",
        "plt.title(\"Customer Churn Prediction Visualiztion\")\n",
        "\n",
        "plt.hist([tenure_churn_yes, tenure_churn_no], rwidth=0.95, color=['red','green'],label=['Churn=Yes','Churn=No'])\n",
        "plt.legend()"
      ]
    },
    {
      "cell_type": "markdown",
      "id": "IUQi0ptz1uuI",
      "metadata": {
        "id": "IUQi0ptz1uuI"
      },
      "source": [
        "### Making a new column BalanceSalaryRatio"
      ]
    },
    {
      "cell_type": "code",
      "execution_count": null,
      "id": "GguoygYy1GyR",
      "metadata": {
        "id": "GguoygYy1GyR"
      },
      "outputs": [],
      "source": [
        "df['BalanceSalaryRatio'] = df.Balance/df.EstimatedSalary\n",
        "sns.boxplot(y='BalanceSalaryRatio',x = 'Exited', hue = 'Exited',data = df)\n",
        "plt.ylim(-1, 5)"
      ]
    },
    {
      "cell_type": "code",
      "execution_count": null,
      "id": "ATetvw8Z15eG",
      "metadata": {
        "id": "ATetvw8Z15eG"
      },
      "outputs": [],
      "source": [
        "df['TenureByAge'] = df.Tenure/(df.Age)\n",
        "sns.boxplot(y='TenureByAge',x = 'Exited', hue = 'Exited',data = df)\n",
        "plt.ylim(-1, 1)\n",
        "plt.show()"
      ]
    },
    {
      "cell_type": "markdown",
      "id": "tNhNEOTe2bRI",
      "metadata": {
        "id": "tNhNEOTe2bRI"
      },
      "source": [
        "#### Printing the categorical variables"
      ]
    },
    {
      "cell_type": "code",
      "execution_count": null,
      "id": "774ea2d7",
      "metadata": {
        "id": "774ea2d7"
      },
      "outputs": [],
      "source": [
        "def print_unique_col_values(df):\n",
        "       for column in df:\n",
        "            if df[column].dtypes=='object':\n",
        "                print(f'{column}: {df[column].unique()}')"
      ]
    },
    {
      "cell_type": "code",
      "execution_count": null,
      "id": "26a7af4c",
      "metadata": {
        "id": "26a7af4c"
      },
      "outputs": [],
      "source": [
        "print_unique_col_values(df)"
      ]
    },
    {
      "cell_type": "markdown",
      "id": "QidjB-KaFwK6",
      "metadata": {
        "id": "QidjB-KaFwK6"
      },
      "source": [
        "### Label Encoding"
      ]
    },
    {
      "cell_type": "code",
      "execution_count": null,
      "id": "97c7e8ca",
      "metadata": {
        "id": "97c7e8ca"
      },
      "outputs": [],
      "source": [
        "df['Gender'].replace({'Male': 1,'Female': 0},inplace=True)"
      ]
    },
    {
      "cell_type": "markdown",
      "id": "U3WhJmQaF4qB",
      "metadata": {
        "id": "U3WhJmQaF4qB"
      },
      "source": [
        "### One Hot Encoding method"
      ]
    },
    {
      "cell_type": "code",
      "execution_count": null,
      "id": "d5894756",
      "metadata": {
        "id": "d5894756"
      },
      "outputs": [],
      "source": [
        "df1 = pd.get_dummies(data=df, columns=['Geography'])\n",
        "df1.head()"
      ]
    },
    {
      "cell_type": "code",
      "execution_count": null,
      "id": "fbe387d7",
      "metadata": {
        "id": "fbe387d7"
      },
      "outputs": [],
      "source": [
        "scale_var = ['Tenure','CreditScore','Age','Balance','NumOfProducts','EstimatedSalary']\n",
        "\n",
        "from sklearn.preprocessing import MinMaxScaler\n",
        "scaler = MinMaxScaler()\n",
        "df1[scale_var] = scaler.fit_transform(df1[scale_var])"
      ]
    },
    {
      "cell_type": "code",
      "execution_count": null,
      "id": "901576ee",
      "metadata": {
        "id": "901576ee"
      },
      "outputs": [],
      "source": [
        "df1.head()"
      ]
    },
    {
      "cell_type": "code",
      "execution_count": null,
      "id": "a6257db2",
      "metadata": {
        "id": "a6257db2"
      },
      "outputs": [],
      "source": [
        "X = df1.drop('Exited',axis='columns')  ##independent features\n",
        "y = df1['Exited']  ##dependent feature\n",
        "\n",
        "from sklearn.model_selection import train_test_split\n",
        "X_train, X_test, y_train, y_test = train_test_split(X,y,test_size=0.2,random_state=5)"
      ]
    },
    {
      "cell_type": "code",
      "execution_count": null,
      "id": "91384418",
      "metadata": {
        "id": "91384418"
      },
      "outputs": [],
      "source": [
        "len(X_train.columns)"
      ]
    },
    {
      "cell_type": "code",
      "execution_count": null,
      "id": "1e538df3",
      "metadata": {
        "id": "1e538df3"
      },
      "outputs": [],
      "source": [
        "import tensorflow as tf\n",
        "from tensorflow import keras\n",
        "\n",
        "\n",
        "model = keras.Sequential([\n",
        "    keras.layers.Dense(12, input_shape=(32,14), activation='relu'),\n",
        "    keras.layers.Dense(6, activation='relu'),\n",
        "    keras.layers.Dense(1, activation='sigmoid')\n",
        "])\n",
        "\n",
        "\n",
        "model.compile(optimizer='adam',\n",
        "              loss='binary_crossentropy',\n",
        "              metrics=['accuracy'])\n",
        "\n",
        "model.fit(X_train, y_train, epochs=100)"
      ]
    },
    {
      "cell_type": "code",
      "execution_count": null,
      "id": "3bd4bbed",
      "metadata": {
        "id": "3bd4bbed"
      },
      "outputs": [],
      "source": [
        "model.evaluate(X_test, y_test)"
      ]
    },
    {
      "cell_type": "code",
      "execution_count": null,
      "id": "346f28cb",
      "metadata": {
        "id": "346f28cb"
      },
      "outputs": [],
      "source": [
        "yp = model.predict(X_test)\n",
        "yp"
      ]
    },
    {
      "cell_type": "markdown",
      "id": "ji4g6w6j4ALS",
      "metadata": {
        "id": "ji4g6w6j4ALS"
      },
      "source": [
        "### Converting our predictions to 0,1 to check accuracy"
      ]
    },
    {
      "cell_type": "code",
      "execution_count": null,
      "id": "jJ7pt3vl3ztm",
      "metadata": {
        "id": "jJ7pt3vl3ztm"
      },
      "outputs": [],
      "source": [
        "y_pred = []\n",
        "for element in yp:\n",
        "    if element > 0.5:\n",
        "        y_pred.append(1)\n",
        "    else:\n",
        "        y_pred.append(0)"
      ]
    },
    {
      "cell_type": "code",
      "execution_count": null,
      "id": "eNaQFAJN327T",
      "metadata": {
        "id": "eNaQFAJN327T"
      },
      "outputs": [],
      "source": [
        "y_pred  "
      ]
    },
    {
      "cell_type": "markdown",
      "id": "9g54w4Ba4QMp",
      "metadata": {
        "id": "9g54w4Ba4QMp"
      },
      "source": [
        "### Checking the accuracy "
      ]
    },
    {
      "cell_type": "code",
      "execution_count": null,
      "id": "9b5cd195",
      "metadata": {
        "id": "9b5cd195"
      },
      "outputs": [],
      "source": [
        "from sklearn.metrics import confusion_matrix , classification_report\n",
        "\n",
        "print(classification_report(y_test,y_pred))"
      ]
    },
    {
      "cell_type": "code",
      "execution_count": null,
      "id": "4e691f5e",
      "metadata": {
        "id": "4e691f5e"
      },
      "outputs": [],
      "source": [
        "import seaborn as sn\n",
        "cm = tf.math.confusion_matrix(labels=y_test,predictions=y_pred)\n",
        "\n",
        "plt.figure(figsize = (10,7))\n",
        "sn.heatmap(cm, annot=True, fmt='d')\n",
        "plt.xlabel('Predicted')\n",
        "plt.ylabel('Truth')"
      ]
    },
    {
      "cell_type": "code",
      "execution_count": null,
      "id": "658325ee",
      "metadata": {
        "id": "658325ee"
      },
      "outputs": [],
      "source": [
        "from sklearn.metrics import accuracy_score"
      ]
    },
    {
      "cell_type": "code",
      "execution_count": null,
      "id": "wANHz4L74f4N",
      "metadata": {
        "id": "wANHz4L74f4N"
      },
      "outputs": [],
      "source": [
        "print(\"Accuracy score is: \", accuracy_score(y_test,y_pred)*100,\"%\")"
      ]
    },
    {
      "cell_type": "code",
      "execution_count": null,
      "id": "5CQbjRWT4oRL",
      "metadata": {
        "id": "5CQbjRWT4oRL"
      },
      "outputs": [],
      "source": [
        "!pip install requests\n",
        "!pip install tabulate\n",
        "!pip install \"colorama>=0.3.8\"\n",
        "!pip install future"
      ]
    },
    {
      "cell_type": "code",
      "execution_count": null,
      "id": "nKOF0m6v5Uqy",
      "metadata": {
        "id": "nKOF0m6v5Uqy"
      },
      "outputs": [],
      "source": [
        "!pip install h2o"
      ]
    },
    {
      "cell_type": "code",
      "execution_count": null,
      "id": "sey3H2CF5aTp",
      "metadata": {
        "id": "sey3H2CF5aTp"
      },
      "outputs": [],
      "source": [
        "import h2o\n",
        "from h2o.automl import H2OAutoML\n",
        "h2o.init(max_mem_size='16G')  ##  the h2o.init() makes sure that no prior instance of H2O is running."
      ]
    },
    {
      "cell_type": "markdown",
      "id": "zcv3g6Tn6F6W",
      "metadata": {
        "id": "zcv3g6Tn6F6W"
      },
      "source": [
        "### Loading the data"
      ]
    },
    {
      "cell_type": "code",
      "execution_count": null,
      "id": "m34UT5ej5wl-",
      "metadata": {
        "id": "m34UT5ej5wl-"
      },
      "outputs": [],
      "source": [
        "df = h2o.import_file(\"/content/drive/MyDrive/Churn_Modelling.csv\")"
      ]
    },
    {
      "cell_type": "code",
      "execution_count": null,
      "id": "Gmodc0gJ6M9y",
      "metadata": {
        "id": "Gmodc0gJ6M9y"
      },
      "outputs": [],
      "source": [
        "df.head()"
      ]
    },
    {
      "cell_type": "markdown",
      "id": "arxKjzX1794d",
      "metadata": {
        "id": "arxKjzX1794d"
      },
      "source": [
        "## H2O auto ml can do all the data preprocessing techniques"
      ]
    },
    {
      "cell_type": "code",
      "execution_count": null,
      "id": "e22RmkS56PE1",
      "metadata": {
        "id": "e22RmkS56PE1"
      },
      "outputs": [],
      "source": [
        "df_train,df_test= df.split_frame(ratios=[.8])"
      ]
    },
    {
      "cell_type": "markdown",
      "id": "Pm5jd8OF9obY",
      "metadata": {
        "id": "Pm5jd8OF9obY"
      },
      "source": [
        "### Splitting the data"
      ]
    },
    {
      "cell_type": "code",
      "execution_count": null,
      "id": "FWSaqyYq8QGY",
      "metadata": {
        "id": "FWSaqyYq8QGY"
      },
      "outputs": [],
      "source": [
        "df_train"
      ]
    },
    {
      "cell_type": "code",
      "execution_count": null,
      "id": "S_40w_OB9hPU",
      "metadata": {
        "id": "S_40w_OB9hPU"
      },
      "outputs": [],
      "source": [
        "y = \"Exited\"  ## dependent variable\n",
        "x = df.columns  ## Independent variable\n",
        "x.remove(y)\n",
        "x.remove('CustomerId')\n",
        "x.remove('RowNumber')\n",
        "x.remove('Surname')"
      ]
    },
    {
      "cell_type": "markdown",
      "id": "JgR6tAbC-OpD",
      "metadata": {
        "id": "JgR6tAbC-OpD"
      },
      "source": [
        "### Defining the model"
      ]
    },
    {
      "cell_type": "code",
      "execution_count": null,
      "id": "yqDUhVtp9xrW",
      "metadata": {
        "id": "yqDUhVtp9xrW"
      },
      "outputs": [],
      "source": [
        "aml = H2OAutoML(max_runtime_secs=300,max_models = 10, seed = 10, verbosity=\"info\", nfolds=2)"
      ]
    },
    {
      "cell_type": "markdown",
      "id": "CWfHLUuC-gH0",
      "metadata": {
        "id": "CWfHLUuC-gH0"
      },
      "source": [
        "### Fitting the model"
      ]
    },
    {
      "cell_type": "code",
      "execution_count": null,
      "id": "nRE7PN8h-Y_V",
      "metadata": {
        "id": "nRE7PN8h-Y_V"
      },
      "outputs": [],
      "source": [
        "aml.train(x=x,y=y, training_frame=df_train)"
      ]
    },
    {
      "cell_type": "markdown",
      "id": "VCJkCCaL_j0Y",
      "metadata": {
        "id": "VCJkCCaL_j0Y"
      },
      "source": [
        "### Seeing the Leaderboard"
      ]
    },
    {
      "cell_type": "code",
      "execution_count": null,
      "id": "Qabq0iz--lm7",
      "metadata": {
        "id": "Qabq0iz--lm7"
      },
      "outputs": [],
      "source": [
        "lb = aml.leaderboard"
      ]
    },
    {
      "cell_type": "code",
      "execution_count": null,
      "id": "wqrsBnGk_o8-",
      "metadata": {
        "id": "wqrsBnGk_o8-"
      },
      "outputs": [],
      "source": [
        "lb"
      ]
    },
    {
      "cell_type": "markdown",
      "id": "ZtJVJKF0zW_k",
      "metadata": {
        "id": "ZtJVJKF0zW_k"
      },
      "source": [
        "## Getting all the model ids"
      ]
    },
    {
      "cell_type": "code",
      "execution_count": null,
      "id": "SeaIF7yRzODW",
      "metadata": {
        "id": "SeaIF7yRzODW"
      },
      "outputs": [],
      "source": [
        "model_ids = list(aml.leaderboard['model_id'].as_data_frame().iloc[:,0])"
      ]
    },
    {
      "cell_type": "code",
      "execution_count": null,
      "id": "rhM8JNZGzVJb",
      "metadata": {
        "id": "rhM8JNZGzVJb"
      },
      "outputs": [],
      "source": [
        "model_ids"
      ]
    },
    {
      "cell_type": "code",
      "execution_count": null,
      "id": "AAb4JcCU0GPP",
      "metadata": {
        "id": "AAb4JcCU0GPP"
      },
      "outputs": [],
      "source": [
        "aml.leader.model_performance(df_test)"
      ]
    },
    {
      "cell_type": "markdown",
      "id": "XM_wLAv84lqT",
      "metadata": {
        "id": "XM_wLAv84lqT"
      },
      "source": [
        "### Getting the model details for best performing model"
      ]
    },
    {
      "cell_type": "code",
      "execution_count": null,
      "id": "Pfj8vY3P0c09",
      "metadata": {
        "id": "Pfj8vY3P0c09"
      },
      "outputs": [],
      "source": [
        "h2o.get_model([mid for mid in model_ids if \"StackedEnsemble\" in mid][0])"
      ]
    },
    {
      "cell_type": "code",
      "execution_count": null,
      "id": "GptGBNNH09lb",
      "metadata": {
        "id": "GptGBNNH09lb"
      },
      "outputs": [],
      "source": [
        "output= h2o.get_model([mid for mid in model_ids if \"StackedEnsemble\" in mid][0])\n",
        "output.params"
      ]
    },
    {
      "cell_type": "code",
      "execution_count": null,
      "id": "eD-jCOer1Lt8",
      "metadata": {
        "id": "eD-jCOer1Lt8"
      },
      "outputs": [],
      "source": [
        "#output.varimp_plot()"
      ]
    },
    {
      "cell_type": "code",
      "execution_count": null,
      "id": "zh0MidA-1_mn",
      "metadata": {
        "id": "zh0MidA-1_mn"
      },
      "outputs": [],
      "source": [
        "aml.leader"
      ]
    },
    {
      "cell_type": "code",
      "execution_count": null,
      "id": "bvargcqp_pxe",
      "metadata": {
        "id": "bvargcqp_pxe"
      },
      "outputs": [],
      "source": [
        "y_pred=aml.leader.predict(df_test)"
      ]
    },
    {
      "cell_type": "code",
      "execution_count": null,
      "id": "FhtqAVnuAA1e",
      "metadata": {
        "id": "FhtqAVnuAA1e"
      },
      "outputs": [],
      "source": [
        "y_pred"
      ]
    },
    {
      "cell_type": "code",
      "execution_count": null,
      "id": "G4tm2_iw2WFS",
      "metadata": {
        "id": "G4tm2_iw2WFS"
      },
      "outputs": [],
      "source": []
    }
  ],
  "metadata": {
    "colab": {
      "collapsed_sections": [],
      "name": "Bank customer churn pred.ipynb",
      "provenance": []
    },
    "kernelspec": {
      "display_name": "Python 3",
      "language": "python",
      "name": "python3"
    },
    "language_info": {
      "codemirror_mode": {
        "name": "ipython",
        "version": 3
      },
      "file_extension": ".py",
      "mimetype": "text/x-python",
      "name": "python",
      "nbconvert_exporter": "python",
      "pygments_lexer": "ipython3",
      "version": "3.8.8"
    }
  },
  "nbformat": 4,
  "nbformat_minor": 5
}
